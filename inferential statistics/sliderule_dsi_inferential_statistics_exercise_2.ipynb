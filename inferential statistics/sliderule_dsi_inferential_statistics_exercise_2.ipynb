{
 "cells": [
  {
   "cell_type": "markdown",
   "metadata": {},
   "source": [
    "# Examining Racial Discrimination in the US Job Market\n",
    "\n",
    "### Background\n",
    "Racial discrimination continues to be pervasive in cultures throughout the world. Researchers examined the level of racial discrimination in the United States labor market by randomly assigning identical résumés to black-sounding or white-sounding names and observing the impact on requests for interviews from employers.\n",
    "\n",
    "### Data\n",
    "In the dataset provided, each row represents a resume. The 'race' column has two values, 'b' and 'w', indicating black-sounding and white-sounding. The column 'call' has two values, 1 and 0, indicating whether the resume received a call from employers or not.\n",
    "\n",
    "Note that the 'b' and 'w' values in race are assigned randomly to the resumes when presented to the employer."
   ]
  },
  {
   "cell_type": "markdown",
   "metadata": {},
   "source": [
    "### Exercises\n",
    "You will perform a statistical analysis to establish whether race has a significant impact on the rate of callbacks for resumes.\n",
    "\n",
    "Answer the following questions **in this notebook below and submit to your Github account**. \n",
    "\n",
    "   1. What test is appropriate for this problem? Does CLT apply?\n",
    "   2. What are the null and alternate hypotheses?\n",
    "   3. Compute margin of error, confidence interval, and p-value.\n",
    "   4. Write a story describing the statistical significance in the context or the original problem.\n",
    "   5. Does your analysis mean that race/name is the most important factor in callback success? Why or why not? If not, how would you amend your analysis?\n",
    "\n",
    "You can include written notes in notebook cells using Markdown: \n",
    "   - In the control panel at the top, choose Cell > Cell Type > Markdown\n",
    "   - Markdown syntax: http://nestacms.com/docs/creating-content/markdown-cheat-sheet\n",
    "\n",
    "\n",
    "#### Resources\n",
    "+ Experiment information and data source: http://www.povertyactionlab.org/evaluation/discrimination-job-market-united-states\n",
    "+ Scipy statistical methods: http://docs.scipy.org/doc/scipy/reference/stats.html \n",
    "+ Markdown syntax: http://nestacms.com/docs/creating-content/markdown-cheat-sheet\n",
    "****"
   ]
  },
  {
   "cell_type": "code",
   "execution_count": 1,
   "metadata": {
    "collapsed": true
   },
   "outputs": [],
   "source": [
    "import pandas as pd\n",
    "import numpy as np\n",
    "from scipy import stats"
   ]
  },
  {
   "cell_type": "code",
   "execution_count": 3,
   "metadata": {},
   "outputs": [
    {
     "data": {
      "text/html": [
       "<div>\n",
       "<style>\n",
       "    .dataframe thead tr:only-child th {\n",
       "        text-align: right;\n",
       "    }\n",
       "\n",
       "    .dataframe thead th {\n",
       "        text-align: left;\n",
       "    }\n",
       "\n",
       "    .dataframe tbody tr th {\n",
       "        vertical-align: top;\n",
       "    }\n",
       "</style>\n",
       "<table border=\"1\" class=\"dataframe\">\n",
       "  <thead>\n",
       "    <tr style=\"text-align: right;\">\n",
       "      <th></th>\n",
       "      <th>id</th>\n",
       "      <th>ad</th>\n",
       "      <th>education</th>\n",
       "      <th>ofjobs</th>\n",
       "      <th>yearsexp</th>\n",
       "      <th>honors</th>\n",
       "      <th>volunteer</th>\n",
       "      <th>military</th>\n",
       "      <th>empholes</th>\n",
       "      <th>occupspecific</th>\n",
       "      <th>...</th>\n",
       "      <th>compreq</th>\n",
       "      <th>orgreq</th>\n",
       "      <th>manuf</th>\n",
       "      <th>transcom</th>\n",
       "      <th>bankreal</th>\n",
       "      <th>trade</th>\n",
       "      <th>busservice</th>\n",
       "      <th>othservice</th>\n",
       "      <th>missind</th>\n",
       "      <th>ownership</th>\n",
       "    </tr>\n",
       "  </thead>\n",
       "  <tbody>\n",
       "    <tr>\n",
       "      <th>0</th>\n",
       "      <td>b</td>\n",
       "      <td>1</td>\n",
       "      <td>4</td>\n",
       "      <td>2</td>\n",
       "      <td>6</td>\n",
       "      <td>0</td>\n",
       "      <td>0</td>\n",
       "      <td>0</td>\n",
       "      <td>1</td>\n",
       "      <td>17</td>\n",
       "      <td>...</td>\n",
       "      <td>1.0</td>\n",
       "      <td>0.0</td>\n",
       "      <td>1.0</td>\n",
       "      <td>0.0</td>\n",
       "      <td>0.0</td>\n",
       "      <td>0.0</td>\n",
       "      <td>0.0</td>\n",
       "      <td>0.0</td>\n",
       "      <td>0.0</td>\n",
       "      <td></td>\n",
       "    </tr>\n",
       "    <tr>\n",
       "      <th>1</th>\n",
       "      <td>b</td>\n",
       "      <td>1</td>\n",
       "      <td>3</td>\n",
       "      <td>3</td>\n",
       "      <td>6</td>\n",
       "      <td>0</td>\n",
       "      <td>1</td>\n",
       "      <td>1</td>\n",
       "      <td>0</td>\n",
       "      <td>316</td>\n",
       "      <td>...</td>\n",
       "      <td>1.0</td>\n",
       "      <td>0.0</td>\n",
       "      <td>1.0</td>\n",
       "      <td>0.0</td>\n",
       "      <td>0.0</td>\n",
       "      <td>0.0</td>\n",
       "      <td>0.0</td>\n",
       "      <td>0.0</td>\n",
       "      <td>0.0</td>\n",
       "      <td></td>\n",
       "    </tr>\n",
       "    <tr>\n",
       "      <th>2</th>\n",
       "      <td>b</td>\n",
       "      <td>1</td>\n",
       "      <td>4</td>\n",
       "      <td>1</td>\n",
       "      <td>6</td>\n",
       "      <td>0</td>\n",
       "      <td>0</td>\n",
       "      <td>0</td>\n",
       "      <td>0</td>\n",
       "      <td>19</td>\n",
       "      <td>...</td>\n",
       "      <td>1.0</td>\n",
       "      <td>0.0</td>\n",
       "      <td>1.0</td>\n",
       "      <td>0.0</td>\n",
       "      <td>0.0</td>\n",
       "      <td>0.0</td>\n",
       "      <td>0.0</td>\n",
       "      <td>0.0</td>\n",
       "      <td>0.0</td>\n",
       "      <td></td>\n",
       "    </tr>\n",
       "    <tr>\n",
       "      <th>3</th>\n",
       "      <td>b</td>\n",
       "      <td>1</td>\n",
       "      <td>3</td>\n",
       "      <td>4</td>\n",
       "      <td>6</td>\n",
       "      <td>0</td>\n",
       "      <td>1</td>\n",
       "      <td>0</td>\n",
       "      <td>1</td>\n",
       "      <td>313</td>\n",
       "      <td>...</td>\n",
       "      <td>1.0</td>\n",
       "      <td>0.0</td>\n",
       "      <td>1.0</td>\n",
       "      <td>0.0</td>\n",
       "      <td>0.0</td>\n",
       "      <td>0.0</td>\n",
       "      <td>0.0</td>\n",
       "      <td>0.0</td>\n",
       "      <td>0.0</td>\n",
       "      <td></td>\n",
       "    </tr>\n",
       "    <tr>\n",
       "      <th>4</th>\n",
       "      <td>b</td>\n",
       "      <td>1</td>\n",
       "      <td>3</td>\n",
       "      <td>3</td>\n",
       "      <td>22</td>\n",
       "      <td>0</td>\n",
       "      <td>0</td>\n",
       "      <td>0</td>\n",
       "      <td>0</td>\n",
       "      <td>313</td>\n",
       "      <td>...</td>\n",
       "      <td>1.0</td>\n",
       "      <td>1.0</td>\n",
       "      <td>0.0</td>\n",
       "      <td>0.0</td>\n",
       "      <td>0.0</td>\n",
       "      <td>0.0</td>\n",
       "      <td>0.0</td>\n",
       "      <td>1.0</td>\n",
       "      <td>0.0</td>\n",
       "      <td>Nonprofit</td>\n",
       "    </tr>\n",
       "  </tbody>\n",
       "</table>\n",
       "<p>5 rows × 65 columns</p>\n",
       "</div>"
      ],
      "text/plain": [
       "  id ad  education  ofjobs  yearsexp  honors  volunteer  military  empholes  \\\n",
       "0  b  1          4       2         6       0          0         0         1   \n",
       "1  b  1          3       3         6       0          1         1         0   \n",
       "2  b  1          4       1         6       0          0         0         0   \n",
       "3  b  1          3       4         6       0          1         0         1   \n",
       "4  b  1          3       3        22       0          0         0         0   \n",
       "\n",
       "   occupspecific    ...      compreq  orgreq  manuf  transcom  bankreal trade  \\\n",
       "0             17    ...          1.0     0.0    1.0       0.0       0.0   0.0   \n",
       "1            316    ...          1.0     0.0    1.0       0.0       0.0   0.0   \n",
       "2             19    ...          1.0     0.0    1.0       0.0       0.0   0.0   \n",
       "3            313    ...          1.0     0.0    1.0       0.0       0.0   0.0   \n",
       "4            313    ...          1.0     1.0    0.0       0.0       0.0   0.0   \n",
       "\n",
       "  busservice othservice  missind  ownership  \n",
       "0        0.0        0.0      0.0             \n",
       "1        0.0        0.0      0.0             \n",
       "2        0.0        0.0      0.0             \n",
       "3        0.0        0.0      0.0             \n",
       "4        0.0        1.0      0.0  Nonprofit  \n",
       "\n",
       "[5 rows x 65 columns]"
      ]
     },
     "execution_count": 3,
     "metadata": {},
     "output_type": "execute_result"
    }
   ],
   "source": [
    "data = pd.io.stata.read_stata('data/us_job_market_discrimination.dta')\n",
    "data.head()"
   ]
  },
  {
   "cell_type": "code",
   "execution_count": 4,
   "metadata": {},
   "outputs": [
    {
     "data": {
      "text/plain": [
       "157.0"
      ]
     },
     "execution_count": 4,
     "metadata": {},
     "output_type": "execute_result"
    }
   ],
   "source": [
    "# number of callbacks for black-sounding names\n",
    "sum(data[data.race=='b'].call)"
   ]
  },
  {
   "cell_type": "markdown",
   "metadata": {},
   "source": [
    "**What are the null and alternate hypotheses? What test is appropriate for this problem?**\n",
    "The null hypothesis would be that a candidate's race does NOT play a role (ie is exchangable) in whether or not they get a callback. Conversely, the alternative hypothesis is that it does. Since we are comparing whether a label makes a difference between two groups, a permutation test would be most appropriate to solve this problem. We can create a null distribution of our sample by running a permutation and comparing it to our empirical sample.\n",
    "\n",
    "**Does CLT apply?**\n",
    "\n",
    "CLT does not apply to the permutation test.\n"
   ]
  },
  {
   "cell_type": "code",
   "execution_count": 5,
   "metadata": {},
   "outputs": [
    {
     "name": "stdout",
     "output_type": "stream",
     "text": [
      "Empirical sample difference: 78.0\n",
      "Average difference between permutated samples: 14.89\n",
      "# of instances in which a greater difference was found between the permuatated samples than the empirical samples: 1\n"
     ]
    }
   ],
   "source": [
    "#subset the permutation to just the race and call back categories, split on race\n",
    "df_subset = data[['race','call']]\n",
    "df_black = df_subset[data['race'] == 'b']\n",
    "df_white = df_subset[data['race'] == 'w']\n",
    "#find the empirical difference in callbacks between the two racial groups\n",
    "emp_diff = np.sum(df_white['call']) - np.sum(df_black['call'])\n",
    "print('Empirical sample difference:', emp_diff)\n",
    "#run permutation 5000 times, and compare number of callbacks in each permutation to the empirical difference.\n",
    "perm_replicates = np.empty(5000)\n",
    "for i in range(5000):\n",
    "    perm_sample = np.random.permutation(df_subset['call'])\n",
    "    perm_sample1 = perm_sample[:len(df_black)]\n",
    "    perm_sample2 = perm_sample[len(df_black):]\n",
    "    perm_replicates[i] = abs(np.sum(perm_sample1)- np.sum(perm_sample2))\n",
    "p = np.sum(perm_replicates > emp_diff)\n",
    "print('Average difference between permutated samples:', round(np.mean(perm_replicates),2))\n",
    "print('# of instances in which a greater difference was found between the permuatated samples than the empirical samples:', p)\n"
   ]
  },
  {
   "cell_type": "code",
   "execution_count": 6,
   "metadata": {},
   "outputs": [
    {
     "data": {
      "image/png": "[encoded data removed]",
      "text/plain": [
       "<matplotlib.figure.Figure at 0x1100d90b8>"
      ]
     },
     "metadata": {},
     "output_type": "display_data"
    }
   ],
   "source": [
    "import matplotlib.pyplot as plt\n",
    "\n",
    "plt.hist(perm_replicates, color='blue')\n",
    "plt.plot([78, 78], [0, 5000], color='red', linestyle='-.', linewidth=2)\n",
    "plt.xlabel('Observed Difference')\n",
    "plt.ylabel('Instances')\n",
    "\n",
    "plt.show()"
   ]
  },
  {
   "cell_type": "markdown",
   "metadata": {
    "collapsed": true
   },
   "source": [
    "**Compute margin of error, confidence interval, and p-value.**\n",
    "\n",
    "Using a permutation test, we can see quite clearly that when we stimulate resampling the two populations without race classification 5000 times, very few (just one) of our stimulations end up reproducing the same difference we found in our empirical sample (represented by the red line in the figure above).  In other words, if we accept that our null hypothesis that race does not play a role is true, the probability (the p-value) of getting a result as extreme or more extreme than what we observed in our empirical sample is 0.\n",
    "\n",
    "Unfortunately, margin of error and confidence intervals are not computable from permutation test.\n",
    "\n",
    "**Write a story describing the statistical significance in the context or the original problem.\n",
    "Does your analysis mean that race/name is the most important factor in callback success? Why or why not? If not, how would you amend your analysis?**\n",
    "\n",
    "It would be very difficult to do a full analysis on all 60 columns included in this study. However, we can generalize the bootstrap function used on the race column and apply it to a few other factors. Note than in these cases we *would* expect certain factors such as academic honors, military service, volunteer experience, and employment gaps to make a difference, since those are valid and legal factors that employers assess employees on. The aim of this analysis is to show that these legal factors have as strong of an influence as race, which is an should not be making a difference. \n",
    "\n",
    "Note on sample sizes: Since this dataset was cultivated  to test racial bias, the whole dataset is evenly split between black/white in a way that it is not for other factors. To get around this, the size of the permutation samples is the same as either the positive or negative subset, whichever is determined to be smaller.\n",
    "\n",
    "Before moving on to binary factors, we can quickly test if the applicant's sex is an important factor."
   ]
  },
  {
   "cell_type": "code",
   "execution_count": 8,
   "metadata": {},
   "outputs": [
    {
     "name": "stdout",
     "output_type": "stream",
     "text": [
      "Empirical sample difference: 9.0\n",
      "Average difference between permutated samples: 10.2\n",
      "% of instances in which a greater diff was found between the permuatated samples than the empirical samples: 46.0\n"
     ]
    },
    {
     "data": {
      "image/png": "[encoded data removed]",
      "text/plain": [
       "<matplotlib.figure.Figure at 0x1a12ce7438>"
      ]
     },
     "metadata": {},
     "output_type": "display_data"
    }
   ],
   "source": [
    "#subset the permutation to just the race and call back categories, split on race\n",
    "df_subset = data[['sex','call']]\n",
    "df_male = df_subset[data['sex'] == 'm']\n",
    "df_female = df_subset[data['sex'] == 'f']\n",
    "\n",
    "#find the empirical difference in callbacks between the two racial groups\n",
    "df_female = df_female.sample(n=len(df_male))\n",
    "emp_diff = abs(np.sum(df_male['call']) - np.sum(df_female['call']))\n",
    "print('Empirical sample difference:', emp_diff)\n",
    "\n",
    "#run permutation 5000 times, and compare number of callbacks in each permutation to the empirical difference.\n",
    "perm_replicates = np.empty(5000) \n",
    "for i in range(5000):\n",
    "    perm_sample = np.random.permutation(df_subset['call'])\n",
    "    perm_sample1 = perm_sample[:len(df_male)]\n",
    "    perm_sample2 = perm_sample[-len(df_male):]\n",
    "    perm_replicates[i] = abs(np.sum(perm_sample1)- np.sum(perm_sample2))\n",
    "p = round((np.sum(perm_replicates > emp_diff)/len(df_subset)),2)*100\n",
    "print('Average difference between permutated samples:', round(np.mean(perm_replicates),2))\n",
    "print('% of instances in which a greater diff was found between the permuatated samples than the empirical samples:', p)\n",
    "\n",
    "perm_replicates = perm_replicates[~np.isnan(perm_replicates)]\n",
    "plt.hist(perm_replicates, color='blue')\n",
    "plt.plot([emp_diff, emp_diff], [0, 5000], color='red', linestyle='-.', linewidth=2)\n",
    "plt.title('Sex')\n",
    "plt.xlabel('Observed Difference')\n",
    "plt.ylabel('Instances')\n",
    "plt.show()"
   ]
  },
  {
   "cell_type": "markdown",
   "metadata": {},
   "source": [
    "With a p-value of .46, we cannot say that the applicant's sex is having a significant effect on the rate that they recieve callbacks.\n",
    "\n",
    "We can run the same process on a list of binary factors that we iterate through:"
   ]
  },
  {
   "cell_type": "code",
   "execution_count": 9,
   "metadata": {
    "collapsed": true
   },
   "outputs": [],
   "source": [
    "def bin_perm_tester(factor, perm_runs):\n",
    "    print('---------------------------------------------------')\n",
    "    print(factor.upper())\n",
    "    df_subset = data[[factor,'call']]\n",
    "    df0 = df_subset[data[factor] == 0]\n",
    "    df1 = df_subset[data[factor] == 1]\n",
    "    \n",
    "    #find the empirical difference in callbacks between the two groups\n",
    "    if len(df0) > len(df1): \n",
    "        df0 = df0.sample(n=len(df1))\n",
    "    else: \n",
    "        df1 = df1.sample(n=len(df0))\n",
    "    emp_diff = abs(np.sum(df1['call']) - np.sum(df0['call']))\n",
    "    print('Empirical sample difference for:', factor, ':' , emp_diff)\n",
    "    print(np.sum(df1['call']),'with', factor, '= TRUE recieved a callback, out of', len(df1))\n",
    "    print(np.sum(df0['call']),'with', factor, '= FALSE recieved a callback, out of', len(df1))\n",
    "    \n",
    "    #run permutation n times, and compare number of callbacks in each permutation to the empirical difference.\n",
    "    perm_replicates = np.empty(5000)\n",
    "    for i in range(perm_runs):\n",
    "        perm_sample = np.random.permutation(df_subset['call'])\n",
    "        perm_sample1 = perm_sample[:len(df0)]\n",
    "        perm_sample2 = perm_sample[-len(df0):]\n",
    "        perm_replicates[i] = abs(np.sum(perm_sample1)- np.sum(perm_sample2))\n",
    "    p = (np.sum(perm_replicates > emp_diff)/len(perm_replicates))\n",
    "    print('Average difference between permutated samples:', np.mean(perm_replicates))\n",
    "    print('% of instances in which a greater diff was found between the permutated samples than the empirical samples:', p*100, '%')\n",
    "    \n",
    "    #plot histogram and empirical difference line\n",
    "    perm_replicates = perm_replicates[~np.isnan(perm_replicates)]\n",
    "    plt.hist(perm_replicates, color='blue')\n",
    "    plt.plot([emp_diff, emp_diff], [0, 5000], color='red', linestyle='-.', linewidth=2)\n",
    "    plt.title(factor)\n",
    "    plt.xlabel('Observed Difference')\n",
    "    plt.ylabel('Instances')\n",
    "    plt.show()"
   ]
  },
  {
   "cell_type": "code",
   "execution_count": 10,
   "metadata": {
    "scrolled": false
   },
   "outputs": [
    {
     "name": "stdout",
     "output_type": "stream",
     "text": [
      "---------------------------------------------------\n",
      "HONORS\n",
      "Empirical sample difference for: honors : 20.0\n",
      "42.0 with honors = TRUE recieved a callback, out of 257\n",
      "22.0 with honors = FALSE recieved a callback, out of 257\n",
      "Average difference between permutated samples: 4.902\n",
      "% of instances in which a greater diff was found between the permutated samples than the empirical samples: 0.06 %\n"
     ]
    },
    {
     "data": {
      "image/png": "[encoded data removed]",
      "text/plain": [
       "<matplotlib.figure.Figure at 0x1a12cfdc88>"
      ]
     },
     "metadata": {},
     "output_type": "display_data"
    },
    {
     "name": "stdout",
     "output_type": "stream",
     "text": [
      "---------------------------------------------------\n",
      "VOLUNTEER\n",
      "Empirical sample difference for: volunteer : 4.0\n",
      "166.0 with volunteer = TRUE recieved a callback, out of 2004\n",
      "162.0 with volunteer = FALSE recieved a callback, out of 2004\n",
      "Average difference between permutated samples: 13.7496\n",
      "% of instances in which a greater diff was found between the permutated samples than the empirical samples: 79.64 %\n"
     ]
    },
    {
     "data": {
      "image/png": "[encoded data removed]",
      "text/plain": [
       "<matplotlib.figure.Figure at 0x1a12b3fb00>"
      ]
     },
     "metadata": {},
     "output_type": "display_data"
    },
    {
     "name": "stdout",
     "output_type": "stream",
     "text": [
      "---------------------------------------------------\n",
      "MILITARY\n",
      "Empirical sample difference for: military : 6.0\n",
      "30.0 with military = TRUE recieved a callback, out of 473\n",
      "36.0 with military = FALSE recieved a callback, out of 473\n",
      "Average difference between permutated samples: 6.6374\n",
      "% of instances in which a greater diff was found between the permutated samples than the empirical samples: 42.96 %\n"
     ]
    },
    {
     "data": {
      "image/png": "[encoded data removed]",
      "text/plain": [
       "<matplotlib.figure.Figure at 0x1a126d59b0>"
      ]
     },
     "metadata": {},
     "output_type": "display_data"
    },
    {
     "name": "stdout",
     "output_type": "stream",
     "text": [
      "---------------------------------------------------\n",
      "EMPHOLES\n",
      "Empirical sample difference for: empholes : 82.0\n",
      "223.0 with empholes = TRUE recieved a callback, out of 2182\n",
      "141.0 with empholes = FALSE recieved a callback, out of 2182\n",
      "Average difference between permutated samples: 14.5712\n",
      "% of instances in which a greater diff was found between the permutated samples than the empirical samples: 0.0 %\n"
     ]
    },
    {
     "data": {
      "image/png": "[encoded data removed]",
      "text/plain": [
       "<matplotlib.figure.Figure at 0x1a12504710>"
      ]
     },
     "metadata": {},
     "output_type": "display_data"
    },
    {
     "name": "stdout",
     "output_type": "stream",
     "text": [
      "---------------------------------------------------\n",
      "COMPUTERSKILLS\n",
      "Empirical sample difference for: computerskills : 20.0\n",
      "65.0 with computerskills = TRUE recieved a callback, out of 874\n",
      "85.0 with computerskills = FALSE recieved a callback, out of 874\n",
      "Average difference between permutated samples: 9.073\n",
      "% of instances in which a greater diff was found between the permutated samples than the empirical samples: 7.26 %\n"
     ]
    },
    {
     "data": {
      "image/png": "[encoded data removed]",
      "text/plain": [
       "<matplotlib.figure.Figure at 0x1a123bad68>"
      ]
     },
     "metadata": {},
     "output_type": "display_data"
    }
   ],
   "source": [
    "factors = ['honors','volunteer','military','empholes', 'computerskills']\n",
    "for factor in factors:\n",
    "    bin_perm_tester(factor, 5000)"
   ]
  },
  {
   "cell_type": "markdown",
   "metadata": {
    "collapsed": true
   },
   "source": [
    "Of these five factors, there are some interesting takeaways.\n",
    "* honors: Academic honors with a p-score of .6% likely has a positive effect on employment.\n",
    "\n",
    "* volunteer: No significant effect.\n",
    "\n",
    "* military: No significant effect\n",
    "\n",
    "* empholes / Holes in Employment History: Generally employers do not like when applicant's have significant gaps in their employment history. With a p-value of 0, we can see that gaps in employment have a strong (negative) effect on callback rate - which is the same case for the primary factor we are investigating, the applicant's race. Therefore, we can say that being black has a similar effect to having significant gaps in employment history when applying to jobs.\n",
    "\n",
    "* compskills: Computer skills. This is ambigously defined, no significant effect.\n",
    "\n",
    "In conclusion, we cannot say that race is the *most* important factor in hiring since other factors have similarly low p-values. However, we have demonstrated that race does play a significant rate in callbacks."
   ]
  },
  {
   "cell_type": "code",
   "execution_count": null,
   "metadata": {
    "collapsed": true
   },
   "outputs": [],
   "source": []
  }
 ],
 "metadata": {
  "kernelspec": {
   "display_name": "Python 3",
   "language": "python",
   "name": "python3"
  },
  "language_info": {
   "codemirror_mode": {
    "name": "ipython",
    "version": 3
   },
   "file_extension": ".py",
   "mimetype": "text/x-python",
   "name": "python",
   "nbconvert_exporter": "python",
   "pygments_lexer": "ipython3",
   "version": "3.6.3"
  }
 },
 "nbformat": 4,
 "nbformat_minor": 1
}
