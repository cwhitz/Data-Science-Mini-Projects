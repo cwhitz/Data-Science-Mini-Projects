{
 "cells": [
  {
   "cell_type": "markdown",
   "metadata": {},
   "source": [
    "# What is the True Normal Human Body Temperature? \n",
    "\n",
    "#### Background\n",
    "\n",
    "The mean normal body temperature was held to be 37$^{\\circ}$C or 98.6$^{\\circ}$F for more than 120 years since it was first conceptualized and reported by Carl Wunderlich in a famous 1868 book. But, is this value statistically correct?"
   ]
  },
  {
   "cell_type": "markdown",
   "metadata": {},
   "source": [
    "<h3>Exercises</h3>\n",
    "\n",
    "<p>In this exercise, you will analyze a dataset of human body temperatures and employ the concepts of hypothesis testing, confidence intervals, and statistical significance.</p>\n",
    "\n",
    "<p>Answer the following questions <b>in this notebook below and submit to your Github account</b>.</p> \n",
    "\n",
    "<ol>\n",
    "<li>  Is the distribution of body temperatures normal? \n",
    "    <ul>\n",
    "    <li> Although this is not a requirement for CLT to hold (read CLT carefully), it gives us some peace of mind that the population may also be normally distributed if we assume that this sample is representative of the population.\n",
    "    </ul>\n",
    "<li>  Is the sample size large? Are the observations independent?\n",
    "    <ul>\n",
    "    <li> Remember that this is a condition for the CLT, and hence the statistical tests we are using, to apply.\n",
    "    </ul>\n",
    "<li>  Is the true population mean really 98.6 degrees F?\n",
    "    <ul>\n",
    "    <li> Would you use a one-sample or two-sample test? Why?\n",
    "    <li> In this situation, is it appropriate to use the $t$ or $z$ statistic? \n",
    "    <li> Now try using the other test. How is the result be different? Why?\n",
    "    </ul>\n",
    "<li>  Draw a small sample of size 10 from the data and repeat both tests. \n",
    "    <ul>\n",
    "    <li> Which one is the correct one to use? \n",
    "    <li> What do you notice? What does this tell you about the difference in application of the $t$ and $z$ statistic?\n",
    "    </ul>\n",
    "<li>  At what temperature should we consider someone's temperature to be \"abnormal\"?\n",
    "    <ul>\n",
    "    <li> Start by computing the margin of error and confidence interval.\n",
    "    </ul>\n",
    "<li>  Is there a significant difference between males and females in normal temperature?\n",
    "    <ul>\n",
    "    <li> What test did you use and why?\n",
    "    <li> Write a story with your conclusion in the context of the original problem.\n",
    "    </ul>\n",
    "</ol>\n",
    "\n",
    "You can include written notes in notebook cells using Markdown: \n",
    "   - In the control panel at the top, choose Cell > Cell Type > Markdown\n",
    "   - Markdown syntax: http://nestacms.com/docs/creating-content/markdown-cheat-sheet\n",
    "\n",
    "#### Resources\n",
    "\n",
    "+ Information and data sources: http://www.amstat.org/publications/jse/datasets/normtemp.txt, http://www.amstat.org/publications/jse/jse_data_archive.htm\n",
    "+ Markdown syntax: http://nestacms.com/docs/creating-content/markdown-cheat-sheet\n",
    "\n",
    "****"
   ]
  },
  {
   "cell_type": "code",
   "execution_count": 48,
   "metadata": {},
   "outputs": [],
   "source": [
    "import pandas as pd\n",
    "import numpy as np\n",
    "import matplotlib.pyplot as plt\n",
    "\n",
    "df = pd.read_csv('data/human_body_temperature.csv')"
   ]
  },
  {
   "cell_type": "markdown",
   "metadata": {},
   "source": [
    "## Normality of Data\n",
    "\n",
    "The first question is: Is the distribution of body temperatures normal? To explore this, I plotted a hsitogram and an ECDF of the temperature data against a normal distribution with an equal mean and standard deviation. Looking at the results in the ECDF, we can conclude the distribution is approximately normal.\n"
   ]
  },
  {
   "cell_type": "code",
   "execution_count": 51,
   "metadata": {},
   "outputs": [
    {
     "data": {
      "image/png": "[encoded data removed]",
      "text/plain": [
       "<matplotlib.figure.Figure at 0x125630940>"
      ]
     },
     "metadata": {},
     "output_type": "display_data"
    }
   ],
   "source": [
    "#define ECDF function\n",
    "def ecdf(data):\n",
    "    n = len(data)\n",
    "    x = np.sort(data)\n",
    "    y = np.arange(1, n+1) / n\n",
    "    return x, y\n",
    "\n",
    "f, axarr = plt.subplots(2)\n",
    "\n",
    "#ecdf of actual data\n",
    "x_temp, y_temp = ecdf(df.temperature)\n",
    "axarr[0].plot(x_temp, y_temp, marker='.', linestyle='none')\n",
    "axarr[1].hist(df.temperature, color='blue', bins=20)\n",
    "\n",
    "#ecdf of normal distribution using same mean and std\n",
    "samples = np.random.normal(np.mean(df.temperature), np.std(df.temperature), size=10000)\n",
    "x_normtemp, y_normtemp = ecdf(samples)\n",
    "axarr[0].plot(x_normtemp, y_normtemp, color='red')\n",
    "\n",
    "axarr[0].set_xlabel('Temperature')\n",
    "axarr[0].set_ylabel('ECDF')\n",
    "plt.show()"
   ]
  },
  {
   "cell_type": "markdown",
   "metadata": {},
   "source": [
    "## Size of Data\n",
    "\n",
    "Is the sample size large? Are the observations independent?"
   ]
  },
  {
   "cell_type": "markdown",
   "metadata": {},
   "source": [
    "## True Population Mean\n",
    "**Is the true population mean really 98.6 degrees F?**\n",
    "\n",
    "If we create a confidence interval from our data, we can be 95% sure that the population mean falls somewhere between 98.12 and 98.34 degrees. Wunderlich's claim of 98.6 degrees is a bit above our confidence interval, and should probably be rejected."
   ]
  },
  {
   "cell_type": "code",
   "execution_count": 120,
   "metadata": {},
   "outputs": [
    {
     "name": "stdout",
     "output_type": "stream",
     "text": [
      "lower: 98.1236798044 . mean: 98.24923076923078 . upper:  98.374781734\n"
     ]
    }
   ],
   "source": [
    "mean = np.mean(df.temperature)\n",
    "std = np.std(df.temperature)\n",
    "n = len(df.temperature)\n",
    "\n",
    "lower = mean - (1.96*(std/np.sqrt(n)))\n",
    "upper = mean + (1.96*(std/np.sqrt(n)))\n",
    "\n",
    "print('lower:', lower, '. mean:', mean, \". upper: \", upper)"
   ]
  },
  {
   "cell_type": "markdown",
   "metadata": {},
   "source": [
    "**Would you use a one-sample or two-sample test? Why?**\n",
    "\n",
    "NOT SURE\n",
    "\n",
    "**In this situation, is it appropriate to use the  t or  z statistic?**\n",
    "\n",
    "A z-test would be more appropriate given the same size of 300+. \n",
    "\n",
    "**Now try using the other test. How is the result be different? Why?**\n",
    "\n",
    "Above 30 samples the distributions look about the same and produce the same statistic.  So using a t-test would not significantly alter the confidence interval.\n",
    "\n",
    "## Subsampled Tests \n",
    "\n",
    "** Draw a sample size of 10 and repeat both tests **"
   ]
  },
  {
   "cell_type": "code",
   "execution_count": 125,
   "metadata": {},
   "outputs": [
    {
     "name": "stdout",
     "output_type": "stream",
     "text": [
      "with Z TEST. lower: 97.7738056416 . mean: 98.19 . upper:  98.6061943584\n",
      "with T TEST. lower: 97.7096777353 . mean: 98.19 . upper:  98.6703222647\n"
     ]
    }
   ],
   "source": [
    "subsample = np.random.choice(df.temperature,10)\n",
    "\n",
    "n = len(subsample)\n",
    "zstat = 1.96\n",
    "tstat = 2.262\n",
    "\n",
    "mean = np.mean(subsample)\n",
    "std = np.std(subsample)\n",
    "\n",
    "lower_z = mean - (zstat*(std/np.sqrt(n)))\n",
    "upper_z = mean + (zstat*(std/np.sqrt(n)))\n",
    "\n",
    "lower_t = mean - (tstat*(std/np.sqrt(n)))\n",
    "upper_t = mean + (tstat*(std/np.sqrt(n)))\n",
    "\n",
    "print('with Z TEST. lower:', lower_z, '. mean:', mean, \". upper: \", upper_z)\n",
    "print('with T TEST. lower:', lower_t, '. mean:', mean, \". upper: \", upper_t)"
   ]
  },
  {
   "cell_type": "markdown",
   "metadata": {},
   "source": [
    "** Which one is the correct one to use?\n",
    "What do you notice? What does this tell you about the difference in application of the t and z statistic? **\n",
    "\n",
    "The correct one to use in this case would be the t-statistic since n < 30. It gives a slightly wider and probably more truthful confidence interval, which makes sense since it is better to be conservative when working with a small amount of observations."
   ]
  },
  {
   "cell_type": "markdown",
   "metadata": {},
   "source": [
    "## Males vs Females\n",
    "\n",
    "Is there a significant difference between males and females in normal temperature?\n",
    "What test did you use and why? Permuatation is a nonparametric approach to\n",
    "statistical significance testing."
   ]
  },
  {
   "cell_type": "code",
   "execution_count": 81,
   "metadata": {},
   "outputs": [
    {
     "data": {
      "image/png": "[encoded data removed]",
      "text/plain": [
       "<matplotlib.figure.Figure at 0x12572c7f0>"
      ]
     },
     "metadata": {},
     "output_type": "display_data"
    }
   ],
   "source": [
    "df_m = df[df['gender'] == 'M']\n",
    "df_f = df[df['gender'] == 'F']\n",
    "x_df_m, y_df_m = ecdf(df_m.temperature)\n",
    "x_df_f, y_df_f = ecdf(df_f.temperature)\n",
    "\n",
    "_ = plt.plot(x_df_m, y_df_m, marker='.', linestyle='none', color='blue')\n",
    "_ = plt.plot(x_df_f, y_df_f, marker='.', linestyle='none', color = 'red')\n",
    "_ = plt.xlabel('Temperature')\n",
    "_ = plt.ylabel('ECDF')\n",
    "\n",
    "plt.show()\n",
    "\n"
   ]
  },
  {
   "cell_type": "markdown",
   "metadata": {},
   "source": [
    "It looks like females tend to have slightly higher body temperature on average."
   ]
  },
  {
   "cell_type": "code",
   "execution_count": 113,
   "metadata": {},
   "outputs": [
    {
     "name": "stdout",
     "output_type": "stream",
     "text": [
      "p-value is  0.0036\n"
     ]
    }
   ],
   "source": [
    "for i in range(10000):\n",
    "    mf_perm_sample = np.random.permutation(df.temperature)\n",
    "    perm_sample1 = mf_perm_sample[:len(df_m)]\n",
    "    perm_sample2 = mf_perm_sample[len(df_m):]\n",
    "    perm_replicates = np.empty(10000)\n",
    "    \n",
    "    perm_replicates[i] = np.mean(perm_sample1)- np.mean(perm_sample2)\n",
    "    emp_diff = np.mean(df_m.temperature)- np.mean(df_f.temperature)\n",
    "p = np.sum(perm_replicates < emp_diff) / 10000\n",
    "print('p-value is ', p)"
   ]
  },
  {
   "cell_type": "markdown",
   "metadata": {},
   "source": [
    "With a p-value of .0036, that means that the difference of the means of the permutation replicates exceeded the difference of the means of the emperical observations less than one percent of the time. We can *reject* the null hypothesis that there is no meaningful differences between these populations and conclude that females in this study did tend to have a higher body temperature on average than males in the study."
   ]
  },
  {
   "cell_type": "code",
   "execution_count": null,
   "metadata": {
    "collapsed": true
   },
   "outputs": [],
   "source": []
  }
 ],
 "metadata": {
  "kernelspec": {
   "display_name": "Python 3",
   "language": "python",
   "name": "python3"
  },
  "language_info": {
   "codemirror_mode": {
    "name": "ipython",
    "version": 3
   },
   "file_extension": ".py",
   "mimetype": "text/x-python",
   "name": "python",
   "nbconvert_exporter": "python",
   "pygments_lexer": "ipython3",
   "version": "3.6.3"
  }
 },
 "nbformat": 4,
 "nbformat_minor": 1
}
